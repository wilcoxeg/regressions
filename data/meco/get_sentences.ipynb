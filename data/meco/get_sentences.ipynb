{
 "cells": [
  {
   "cell_type": "code",
   "execution_count": 1,
   "id": "22f46bdb",
   "metadata": {},
   "outputs": [
    {
     "name": "stderr",
     "output_type": "stream",
     "text": [
      "[nltk_data] Downloading package punkt to /Users/ethan/nltk_data...\n",
      "[nltk_data]   Package punkt is already up-to-date!\n"
     ]
    },
    {
     "data": {
      "text/plain": [
       "True"
      ]
     },
     "execution_count": 1,
     "metadata": {},
     "output_type": "execute_result"
    }
   ],
   "source": [
    "import pandas as pd\n",
    "import csv\n",
    "from nltk.tokenize import sent_tokenize, word_tokenize\n",
    "import nltk\n",
    "nltk.download('punkt')"
   ]
  },
  {
   "cell_type": "code",
   "execution_count": 3,
   "id": "59a215c7",
   "metadata": {},
   "outputs": [],
   "source": [
    "#langs = [\"de\", \"el\", \"en\", \"es\", \"et\", \"fi\", \"he\", \"it\", \"ko\", \"nl\", \"no\", \"ru\", \"tr\"]\n",
    "langs = [\"de\", \"el\", \"en\", \"es\", \"fi\", \"it\", \"nl\",\"ru\", \"tr\"]\n",
    "punkt_langs = {\n",
    "    \"nl\":\"dutch\", \"en\":\"english\", \"et\":\"estonian\", \"fi\":\"finnish\", \"de\":\"german\",\n",
    "    \"el\":\"greek\", \"it\":\"italian\", \"no\":\"norwegian\", \"ru\":\"russian\", \"es\":\"spanish\",\n",
    "    \"tr\":\"turkish\",\n",
    "    \"he\":\"english\", \"ko\":\"english\"\n",
    "}\n",
    "\n",
    "for lang in langs:\n",
    "    sents = []\n",
    "    texts = open(\"../../../lang-model-training/data/meco/\"+lang+\"/raw/test.txt\").readlines()\n",
    "    for i in range(len(texts)):\n",
    "        split_text = sent_tokenize(texts[i].replace(\"\\n\", \"\"), language = punkt_langs[lang])\n",
    "        for j in range(len(split_text)):\n",
    "            sent = split_text[j]\n",
    "            sents.append([i, j, sent.replace(\".\", \"\")])\n",
    "    out_df = pd.DataFrame(sents, columns=[\"TextID\", \"Sentence_Number\", \"text\"])\n",
    "    out_df.to_csv(lang+\"_meco_sents.csv\", index=False, header=True)\n"
   ]
  },
  {
   "cell_type": "code",
   "execution_count": null,
   "id": "35906730",
   "metadata": {},
   "outputs": [],
   "source": []
  },
  {
   "cell_type": "code",
   "execution_count": null,
   "id": "3cb63b90",
   "metadata": {},
   "outputs": [],
   "source": []
  }
 ],
 "metadata": {
  "kernelspec": {
   "display_name": "Python 3 (ipykernel)",
   "language": "python",
   "name": "python3"
  },
  "language_info": {
   "codemirror_mode": {
    "name": "ipython",
    "version": 3
   },
   "file_extension": ".py",
   "mimetype": "text/x-python",
   "name": "python",
   "nbconvert_exporter": "python",
   "pygments_lexer": "ipython3",
   "version": "3.9.10"
  }
 },
 "nbformat": 4,
 "nbformat_minor": 5
}
